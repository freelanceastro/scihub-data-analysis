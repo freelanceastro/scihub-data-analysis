{
 "cells": [
  {
   "cell_type": "markdown",
   "metadata": {},
   "source": [
    "# Sci-Hub server log data analysis\n",
    "\n",
    "### Based on a notebook by John Bohannon; modifications by Adam Becker. New stuff (as compared to Bohannon's original notebook) is [here](#New-stuff-starts-here).\n",
    "#### (Apparently, that link only works if you're running the notebook somewhere — scroll down for new stuff if you're viewing this on GitHub.)\n",
    "![badge-img](https://img.shields.io/badge/Made%20at-%23AstroHackWeek-8063d5.svg?style=flat)"
   ]
  },
  {
   "cell_type": "markdown",
   "metadata": {},
   "source": [
    "This Notebook will help you process the 6 months of raw server log data provided by Sci-Hub to Science magazine in March 2016.\n",
    "\n",
    "**Science article:**\n",
    "\n",
    "http://www.sciencemag.org/news/2016/04/whos-downloading-pirated-papers-everyone\n",
    "\n",
    "**Data set:**\n",
    "\n",
    "http://dx.doi.org/10.5061/dryad.q447c"
   ]
  },
  {
   "cell_type": "code",
   "execution_count": 16,
   "metadata": {
    "collapsed": true
   },
   "outputs": [],
   "source": [
    "import pandas as pd\n",
    "import numpy as np"
   ]
  },
  {
   "cell_type": "code",
   "execution_count": 17,
   "metadata": {
    "collapsed": true
   },
   "outputs": [],
   "source": [
    "months = (\"sep2015\", \"oct2015\", \"nov2015\", \"dec2015\", \"jan2016\", \"feb2016\")"
   ]
  },
  {
   "cell_type": "code",
   "execution_count": 3,
   "metadata": {
    "collapsed": false
   },
   "outputs": [],
   "source": [
    "%mkdir \"scihub_data_temp\""
   ]
  },
  {
   "cell_type": "markdown",
   "metadata": {},
   "source": [
    "We need to use the scraped DOI prefixes for the pipeline below to work, but these are actually not helpful -- they don't match the publisher names in the CrossRef API, and we'll be discarding them later."
   ]
  },
  {
   "cell_type": "code",
   "execution_count": 18,
   "metadata": {
    "collapsed": false
   },
   "outputs": [
    {
     "data": {
      "text/html": [
       "<div>\n",
       "<table border=\"1\" class=\"dataframe\">\n",
       "  <thead>\n",
       "    <tr style=\"text-align: right;\">\n",
       "      <th></th>\n",
       "      <th>Name</th>\n",
       "      <th>Prefix</th>\n",
       "      <th>Date Joined</th>\n",
       "      <th>Date of \n",
       "Last Deposit</th>\n",
       "      <th>Date of \n",
       "Last Query</th>\n",
       "    </tr>\n",
       "  </thead>\n",
       "  <tbody>\n",
       "    <tr>\n",
       "      <th>0</th>\n",
       "      <td>Povolzhskiy State University of Telecommunicat...</td>\n",
       "      <td>10.18469</td>\n",
       "      <td>NaN</td>\n",
       "      <td>Dec 16, 2015</td>\n",
       "      <td>unknown</td>\n",
       "    </tr>\n",
       "    <tr>\n",
       "      <th>1</th>\n",
       "      <td>\"Henri Coanda\" Air Force Academy</td>\n",
       "      <td>10.19062</td>\n",
       "      <td>NaN</td>\n",
       "      <td>Jan 05, 2016</td>\n",
       "      <td>unknown</td>\n",
       "    </tr>\n",
       "    <tr>\n",
       "      <th>2</th>\n",
       "      <td>123Doc Education</td>\n",
       "      <td>10.7579</td>\n",
       "      <td>May 16, 2012</td>\n",
       "      <td>unknown</td>\n",
       "      <td>unknown</td>\n",
       "    </tr>\n",
       "    <tr>\n",
       "      <th>3</th>\n",
       "      <td>21st Century COE Program (Toplogical Science a...</td>\n",
       "      <td>10.3731</td>\n",
       "      <td>Nov 20, 2007</td>\n",
       "      <td>unknown</td>\n",
       "      <td>unknown</td>\n",
       "    </tr>\n",
       "    <tr>\n",
       "      <th>4</th>\n",
       "      <td>21st Century Political Science Association</td>\n",
       "      <td>10.17937</td>\n",
       "      <td>NaN</td>\n",
       "      <td>Sep 14, 2015</td>\n",
       "      <td>unknown</td>\n",
       "    </tr>\n",
       "  </tbody>\n",
       "</table>\n",
       "</div>"
      ],
      "text/plain": [
       "                                                Name    Prefix   Date Joined  \\\n",
       "0  Povolzhskiy State University of Telecommunicat...  10.18469           NaN   \n",
       "1                   \"Henri Coanda\" Air Force Academy  10.19062           NaN   \n",
       "2                                   123Doc Education   10.7579  May 16, 2012   \n",
       "3  21st Century COE Program (Toplogical Science a...   10.3731  Nov 20, 2007   \n",
       "4         21st Century Political Science Association  10.17937           NaN   \n",
       "\n",
       "  Date of \\nLast Deposit Date of \\nLast Query  \n",
       "0           Dec 16, 2015              unknown  \n",
       "1           Jan 05, 2016              unknown  \n",
       "2                unknown              unknown  \n",
       "3                unknown              unknown  \n",
       "4           Sep 14, 2015              unknown  "
      ]
     },
     "execution_count": 18,
     "metadata": {},
     "output_type": "execute_result"
    }
   ],
   "source": [
    "journal_DOIs = pd.read_csv(\"publisher_DOI_prefixes.csv\", index_col = 0)\n",
    "journal_DOIs.head()"
   ]
  },
  {
   "cell_type": "markdown",
   "metadata": {},
   "source": [
    "**Holding all months of raw data in memory is a bit much for most laptop computers, so let's process each month separately to generate aggregate data.**"
   ]
  },
  {
   "cell_type": "code",
   "execution_count": 5,
   "metadata": {
    "collapsed": false
   },
   "outputs": [],
   "source": [
    "def process_data(month):\n",
    "    \n",
    "    # load the file as a dataframe\n",
    "    path = \"scihub_data/\"\n",
    "    filename = month + \".tab\"\n",
    "    with open(path + filename, \"r\") as f:\n",
    "        data = pd.read_table(f)\n",
    "\n",
    "    # this is the format of the columns\n",
    "    data.columns = [\"date\",\"doi\",\"IP_code\",\"country\",\"city\",\"coords\"]\n",
    "\n",
    "    # create a few more useful columns\n",
    "    data[[\"latitude\", \"longitude\"]] = data.coords.str.split(\",\", expand = True)\n",
    "    data[\"prefix\"] = data.dropna(subset = [\"doi\"]).doi.apply(lambda x: x.split(\"/\")[0])\n",
    "\n",
    "    # group by DOI prefix and count total downloads for each\n",
    "    publishers = data.dropna(subset = [\"prefix\"]).groupby(\"prefix\").count()\n",
    "    publishers = publishers.sort_values(by = \"date\", ascending = False).date\n",
    "    publishers = publishers.reset_index()\n",
    "    publishers.columns = [\"prefix\",\"downloads\"]\n",
    "\n",
    "    # translate those DOI prefixes into publisher names using the CrossRef data\n",
    "    data_publishers = pd.merge(publishers, journal_DOIs[[\"Prefix\",\"Name\"]],\n",
    "                               left_on = \"prefix\", right_on = \"Prefix\", how = \"left\")\n",
    "    data_publishers[[\"prefix\",\"downloads\",\"Name\"]].to_csv(\"scihub_data_temp/%s_publishers.csv\" %(month))\n",
    "\n",
    "    # calculate the 100 most downloaded DOIs of the month\n",
    "    top100_doi = data.groupby(\"doi\").count().sort_values(by = \"date\", ascending = False)[:100].date\n",
    "    top100_doi.name = \"downloads\"\n",
    "    top100_doi.to_csv(\"scihub_data_temp/%s_top100_doi.csv\" %month, header = \"downloads\")"
   ]
  },
  {
   "cell_type": "code",
   "execution_count": 6,
   "metadata": {
    "collapsed": false
   },
   "outputs": [
    {
     "name": "stdout",
     "output_type": "stream",
     "text": [
      "sep2015\n",
      "oct2015\n",
      "nov2015\n",
      "dec2015\n",
      "jan2016\n",
      "feb2016\n"
     ]
    }
   ],
   "source": [
    "for month in months:\n",
    "    print(month)\n",
    "    process_data(month)"
   ]
  },
  {
   "cell_type": "markdown",
   "metadata": {},
   "source": [
    "**Now let's see the big picture, starting with the publishers...**"
   ]
  },
  {
   "cell_type": "code",
   "execution_count": 19,
   "metadata": {
    "collapsed": false
   },
   "outputs": [
    {
     "name": "stdout",
     "output_type": "stream",
     "text": [
      "1095\n",
      "1216\n",
      "1039\n",
      "1166\n",
      "1223\n",
      "1405\n"
     ]
    }
   ],
   "source": [
    "publishers_by_month = [pd.read_csv(\"scihub_data_temp/\" + i + \"_publishers.csv\") for i in months]\n",
    "for i in publishers_by_month:\n",
    "    print(len(i))"
   ]
  },
  {
   "cell_type": "code",
   "execution_count": 20,
   "metadata": {
    "collapsed": false
   },
   "outputs": [],
   "source": [
    "all_publishers = pd.concat(publishers_by_month)"
   ]
  },
  {
   "cell_type": "markdown",
   "metadata": {},
   "source": [
    "# New stuff starts here\n",
    "Now I'm done with Bohannon's very helpful data pipeline, and I can do my own thing."
   ]
  },
  {
   "cell_type": "code",
   "execution_count": 86,
   "metadata": {
    "collapsed": false,
    "scrolled": true
   },
   "outputs": [],
   "source": [
    "# all_publishers_sorted = all_publishers.groupby(\"Name\").sum().downloads.sort_values(ascending = False)\n",
    "# all_publishers_sorted.head(40)\n",
    "# print(all_publishers_sorted[\"Public Library of Science\"]/31000000, all_publishers_sorted[\"Elsevier\"]/450000000)\n",
    "\n",
    "all_prefixes_sorted = all_publishers.groupby(\"prefix\").sum().downloads.sort_values(ascending = False)\n"
   ]
  },
  {
   "cell_type": "code",
   "execution_count": 93,
   "metadata": {
    "collapsed": false
   },
   "outputs": [
    {
     "data": {
      "text/plain": [
       "Index(['10.1016', '10.1007', '10.1038', '10.1109', '10.1021', '10.1111',\n",
       "       '10.1002', '10.1039', '10.1080', '10.1177',\n",
       "       ...\n",
       "       '10.2109', '10.2116', '10.2205', '10.2223', '10.2305', '10.2334',\n",
       "       '10.2450', '10.2469', '.1991.236', '56ed2c5c3cda0'],\n",
       "      dtype='object', name='prefix', length=1526)"
      ]
     },
     "execution_count": 93,
     "metadata": {},
     "output_type": "execute_result"
    }
   ],
   "source": [
    "all_prefixes_sorted.index"
   ]
  },
  {
   "cell_type": "markdown",
   "metadata": {},
   "source": [
    "### Using the Crossref API to get publisher information\n",
    "I want to compare usage of Sci-Hub across publishers — but in order to do a meaningful comparison, I'll need to know how many papers each publisher has. I can do that with the Crossref API."
   ]
  },
  {
   "cell_type": "code",
   "execution_count": 108,
   "metadata": {
    "collapsed": false
   },
   "outputs": [],
   "source": [
    "import requests\n",
    "import json\n",
    "import pprint\n",
    "from urllib.parse import quote\n",
    "\n",
    "def doi_prefix_to_member(prefix):\n",
    "    '''\n",
    "    Takes a DOI prefix and returns the Crossref member ID and name associated with that prefix, using the Crossref API.\n",
    "    '''\n",
    "    url = \"http://api.crossref.org/prefixes/\" + quote(prefix)\n",
    "    headers = {'Content-Type': 'application/json'}\n",
    "    r = requests.get(url, headers=headers)\n",
    "    r.encoding = \"UTF-8\" # just to be sure\n",
    "    try:\n",
    "        r.raise_for_status()\n",
    "    except requests.exceptions.HTTPError:\n",
    "        return (\"-1\", \"-1\")\n",
    "    reply_json = r.json()\n",
    "    member_id = reply_json[\"message\"][\"member\"][30:] # Because http://id.crossref.org/member/ has 30 characters.\n",
    "    member_name = reply_json[\"message\"][\"name\"]\n",
    "    return (member_id, member_name)\n",
    "\n",
    "def crossref_member_id_query(id):\n",
    "    '''\n",
    "    Takes a Crossref member ID and returns the Crossref member information for that ID, using the Crossref API.\n",
    "    '''\n",
    "    url = \"http://api.crossref.org/members/\" + quote(id)\n",
    "    headers = {'Content-Type': 'application/json'}\n",
    "    r = requests.get(url, headers=headers)\n",
    "    r.encoding = \"UTF-8\" # just to be sure\n",
    "    return r.json()\n",
    "\n",
    "def dois_per_publisher(id):\n",
    "    '''\n",
    "    Takes a Crossref member ID, gets the Crossref member information, \n",
    "    and traverses the JSON to get the number of DOIs associated with that member.\n",
    "    Members are generally publishers, and DOIs are generally one per paper, \n",
    "    so this gives a good approximation of the total number of papers associated with each publisher.\n",
    "    '''\n",
    "    json = crossref_member_id_query(id)\n",
    "    return json[\"message\"][\"counts\"][\"total-dois\"]\n"
   ]
  },
  {
   "cell_type": "code",
   "execution_count": 264,
   "metadata": {
    "collapsed": false
   },
   "outputs": [
    {
     "data": {
      "text/html": [
       "<div>\n",
       "<table border=\"1\" class=\"dataframe\">\n",
       "  <thead>\n",
       "    <tr style=\"text-align: right;\">\n",
       "      <th></th>\n",
       "      <th>0</th>\n",
       "      <th>1</th>\n",
       "      <th>2</th>\n",
       "    </tr>\n",
       "  </thead>\n",
       "  <tbody>\n",
       "    <tr>\n",
       "      <th>0</th>\n",
       "      <td>78</td>\n",
       "      <td>Elsevier BV</td>\n",
       "      <td>9296485</td>\n",
       "    </tr>\n",
       "    <tr>\n",
       "      <th>1</th>\n",
       "      <td>297</td>\n",
       "      <td>Springer Nature</td>\n",
       "      <td>5243912</td>\n",
       "    </tr>\n",
       "    <tr>\n",
       "      <th>2</th>\n",
       "      <td>339</td>\n",
       "      <td>Springer Nature</td>\n",
       "      <td>2243762</td>\n",
       "    </tr>\n",
       "    <tr>\n",
       "      <th>3</th>\n",
       "      <td>263</td>\n",
       "      <td>Institute of Electrical and Electronics Engine...</td>\n",
       "      <td>2138064</td>\n",
       "    </tr>\n",
       "    <tr>\n",
       "      <th>4</th>\n",
       "      <td>316</td>\n",
       "      <td>American Chemical Society (ACS)</td>\n",
       "      <td>1871933</td>\n",
       "    </tr>\n",
       "  </tbody>\n",
       "</table>\n",
       "</div>"
      ],
      "text/plain": [
       "     0                                                  1        2\n",
       "0   78                                        Elsevier BV  9296485\n",
       "1  297                                    Springer Nature  5243912\n",
       "2  339                                    Springer Nature  2243762\n",
       "3  263  Institute of Electrical and Electronics Engine...  2138064\n",
       "4  316                    American Chemical Society (ACS)  1871933"
      ]
     },
     "execution_count": 264,
     "metadata": {},
     "output_type": "execute_result"
    }
   ],
   "source": [
    "downloads_by_member = [[doi_prefix_to_member(prefix), all_prefixes_sorted[prefix]] for prefix in all_prefixes_sorted.index]\n",
    "\n",
    "downloads_by_member = [[ID_and_name[0], ID_and_name[1], downloads] for ID_and_name, downloads in downloads_by_member]\n",
    "\n",
    "downloads_by_member = pd.DataFrame(downloads_by_member)\n",
    "\n",
    "downloads_by_member.head()"
   ]
  },
  {
   "cell_type": "markdown",
   "metadata": {},
   "source": [
    "A good start! But now I need to manipulate this DataFrame, and I'm not great with Pandas, so bear with me. First, sum across duplicate rows."
   ]
  },
  {
   "cell_type": "code",
   "execution_count": 280,
   "metadata": {
    "collapsed": false
   },
   "outputs": [
    {
     "data": {
      "text/html": [
       "<div>\n",
       "<table border=\"1\" class=\"dataframe\">\n",
       "  <thead>\n",
       "    <tr style=\"text-align: right;\">\n",
       "      <th></th>\n",
       "      <th>Crossref_ID</th>\n",
       "      <th>Name</th>\n",
       "      <th>Downloads</th>\n",
       "    </tr>\n",
       "  </thead>\n",
       "  <tbody>\n",
       "    <tr>\n",
       "      <th>1146</th>\n",
       "      <td>78</td>\n",
       "      <td>Elsevier BV</td>\n",
       "      <td>9527038</td>\n",
       "    </tr>\n",
       "    <tr>\n",
       "      <th>564</th>\n",
       "      <td>297</td>\n",
       "      <td>Springer Nature</td>\n",
       "      <td>5489012</td>\n",
       "    </tr>\n",
       "    <tr>\n",
       "      <th>600</th>\n",
       "      <td>311</td>\n",
       "      <td>Wiley-Blackwell</td>\n",
       "      <td>3173076</td>\n",
       "    </tr>\n",
       "    <tr>\n",
       "      <th>672</th>\n",
       "      <td>339</td>\n",
       "      <td>Springer Nature</td>\n",
       "      <td>2276408</td>\n",
       "    </tr>\n",
       "    <tr>\n",
       "      <th>473</th>\n",
       "      <td>263</td>\n",
       "      <td>Institute of Electrical and Electronics Engine...</td>\n",
       "      <td>2138138</td>\n",
       "    </tr>\n",
       "  </tbody>\n",
       "</table>\n",
       "</div>"
      ],
      "text/plain": [
       "     Crossref_ID                                               Name  Downloads\n",
       "1146          78                                        Elsevier BV    9527038\n",
       "564          297                                    Springer Nature    5489012\n",
       "600          311                                    Wiley-Blackwell    3173076\n",
       "672          339                                    Springer Nature    2276408\n",
       "473          263  Institute of Electrical and Electronics Engine...    2138138"
      ]
     },
     "execution_count": 280,
     "metadata": {},
     "output_type": "execute_result"
    }
   ],
   "source": [
    "downloads_by_member.columns = [\"Crossref_ID\", \"Name\", \"Downloads\"]\n",
    "downloads_by_member_summed = downloads_by_member.groupby([\"Crossref_ID\", \"Name\"], as_index=False).sum().sort_values(\"Downloads\", ascending = False)\n",
    "downloads_by_member_summed.head()"
   ]
  },
  {
   "cell_type": "markdown",
   "metadata": {},
   "source": [
    "Next, get rid of any bad prefixes that resulted in an empty Crossref reply."
   ]
  },
  {
   "cell_type": "code",
   "execution_count": 294,
   "metadata": {
    "collapsed": false
   },
   "outputs": [
    {
     "name": "stdout",
     "output_type": "stream",
     "text": [
      "(1526, 3) (1194, 3)\n"
     ]
    },
    {
     "data": {
      "text/html": [
       "<div>\n",
       "<table border=\"1\" class=\"dataframe\">\n",
       "  <thead>\n",
       "    <tr style=\"text-align: right;\">\n",
       "      <th></th>\n",
       "      <th>Crossref_ID</th>\n",
       "      <th>Name</th>\n",
       "      <th>Downloads</th>\n",
       "    </tr>\n",
       "  </thead>\n",
       "  <tbody>\n",
       "    <tr>\n",
       "      <th>1146</th>\n",
       "      <td>78</td>\n",
       "      <td>Elsevier BV</td>\n",
       "      <td>9527038</td>\n",
       "    </tr>\n",
       "    <tr>\n",
       "      <th>564</th>\n",
       "      <td>297</td>\n",
       "      <td>Springer Nature</td>\n",
       "      <td>5489012</td>\n",
       "    </tr>\n",
       "    <tr>\n",
       "      <th>600</th>\n",
       "      <td>311</td>\n",
       "      <td>Wiley-Blackwell</td>\n",
       "      <td>3173076</td>\n",
       "    </tr>\n",
       "    <tr>\n",
       "      <th>672</th>\n",
       "      <td>339</td>\n",
       "      <td>Springer Nature</td>\n",
       "      <td>2276408</td>\n",
       "    </tr>\n",
       "    <tr>\n",
       "      <th>473</th>\n",
       "      <td>263</td>\n",
       "      <td>Institute of Electrical and Electronics Engine...</td>\n",
       "      <td>2138138</td>\n",
       "    </tr>\n",
       "  </tbody>\n",
       "</table>\n",
       "</div>"
      ],
      "text/plain": [
       "     Crossref_ID                                               Name  Downloads\n",
       "1146          78                                        Elsevier BV    9527038\n",
       "564          297                                    Springer Nature    5489012\n",
       "600          311                                    Wiley-Blackwell    3173076\n",
       "672          339                                    Springer Nature    2276408\n",
       "473          263  Institute of Electrical and Electronics Engine...    2138138"
      ]
     },
     "execution_count": 294,
     "metadata": {},
     "output_type": "execute_result"
    }
   ],
   "source": [
    "cleaned_downloads_by_member_summed = downloads_by_member_summed[downloads_by_member_summed[\"Crossref_ID\"].map(int) >= 0]\n",
    "print(downloads_by_member.shape, cleaned_downloads_by_member_summed.shape)\n",
    "cleaned_downloads_by_member_summed.head()"
   ]
  },
  {
   "cell_type": "markdown",
   "metadata": {},
   "source": [
    "Now I'm ready to ask Crossref for the publisher DOI counts."
   ]
  },
  {
   "cell_type": "code",
   "execution_count": 182,
   "metadata": {
    "collapsed": false
   },
   "outputs": [],
   "source": [
    "publisher_doi_counts = [dois_per_publisher(id) for id in cleaned_downloads_by_member_summed[\"Crossref_ID\"]]"
   ]
  },
  {
   "cell_type": "code",
   "execution_count": 289,
   "metadata": {
    "collapsed": false
   },
   "outputs": [
    {
     "data": {
      "text/plain": [
       "[14589774,\n",
       " 9110555,\n",
       " 7979382,\n",
       " 1304883,\n",
       " 2771965,\n",
       " 1400409,\n",
       " 3702633,\n",
       " 480827,\n",
       " 1676361,\n",
       " 1850246]"
      ]
     },
     "execution_count": 289,
     "metadata": {},
     "output_type": "execute_result"
    }
   ],
   "source": [
    "publisher_doi_counts[:10]"
   ]
  },
  {
   "cell_type": "code",
   "execution_count": 291,
   "metadata": {
    "collapsed": false
   },
   "outputs": [
    {
     "data": {
      "text/html": [
       "<div>\n",
       "<table border=\"1\" class=\"dataframe\">\n",
       "  <thead>\n",
       "    <tr style=\"text-align: right;\">\n",
       "      <th></th>\n",
       "      <th>Name</th>\n",
       "      <th>Downloads</th>\n",
       "    </tr>\n",
       "    <tr>\n",
       "      <th>Crossref_ID</th>\n",
       "      <th></th>\n",
       "      <th></th>\n",
       "    </tr>\n",
       "  </thead>\n",
       "  <tbody>\n",
       "    <tr>\n",
       "      <th>78</th>\n",
       "      <td>Elsevier BV</td>\n",
       "      <td>9527038</td>\n",
       "    </tr>\n",
       "    <tr>\n",
       "      <th>297</th>\n",
       "      <td>Springer Nature</td>\n",
       "      <td>5489012</td>\n",
       "    </tr>\n",
       "    <tr>\n",
       "      <th>311</th>\n",
       "      <td>Wiley-Blackwell</td>\n",
       "      <td>3173076</td>\n",
       "    </tr>\n",
       "    <tr>\n",
       "      <th>339</th>\n",
       "      <td>Springer Nature</td>\n",
       "      <td>2276408</td>\n",
       "    </tr>\n",
       "    <tr>\n",
       "      <th>263</th>\n",
       "      <td>Institute of Electrical and Electronics Engine...</td>\n",
       "      <td>2138138</td>\n",
       "    </tr>\n",
       "  </tbody>\n",
       "</table>\n",
       "</div>"
      ],
      "text/plain": [
       "                                                          Name  Downloads\n",
       "Crossref_ID                                                              \n",
       "78                                                 Elsevier BV    9527038\n",
       "297                                            Springer Nature    5489012\n",
       "311                                            Wiley-Blackwell    3173076\n",
       "339                                            Springer Nature    2276408\n",
       "263          Institute of Electrical and Electronics Engine...    2138138"
      ]
     },
     "execution_count": 291,
     "metadata": {},
     "output_type": "execute_result"
    }
   ],
   "source": [
    "cleaned_downloads_by_member_summed = cleaned_downloads_by_member_summed.set_index(\"Crossref_ID\")\n",
    "cleaned_downloads_by_member_summed.head()"
   ]
  },
  {
   "cell_type": "markdown",
   "metadata": {},
   "source": [
    "## Sci-Hub download requests by publisher\n",
    "\n",
    "Now I've got what I want. Let's have a look at it."
   ]
  },
  {
   "cell_type": "code",
   "execution_count": 292,
   "metadata": {
    "collapsed": false
   },
   "outputs": [
    {
     "data": {
      "text/html": [
       "<div>\n",
       "<table border=\"1\" class=\"dataframe\">\n",
       "  <thead>\n",
       "    <tr style=\"text-align: right;\">\n",
       "      <th></th>\n",
       "      <th>Name</th>\n",
       "      <th>Downloads</th>\n",
       "      <th>total_DOIs</th>\n",
       "    </tr>\n",
       "    <tr>\n",
       "      <th>Crossref_ID</th>\n",
       "      <th></th>\n",
       "      <th></th>\n",
       "      <th></th>\n",
       "    </tr>\n",
       "  </thead>\n",
       "  <tbody>\n",
       "    <tr>\n",
       "      <th>78</th>\n",
       "      <td>Elsevier BV</td>\n",
       "      <td>9527038</td>\n",
       "      <td>14589774</td>\n",
       "    </tr>\n",
       "    <tr>\n",
       "      <th>297</th>\n",
       "      <td>Springer Nature</td>\n",
       "      <td>5489012</td>\n",
       "      <td>9110555</td>\n",
       "    </tr>\n",
       "    <tr>\n",
       "      <th>311</th>\n",
       "      <td>Wiley-Blackwell</td>\n",
       "      <td>3173076</td>\n",
       "      <td>7979382</td>\n",
       "    </tr>\n",
       "    <tr>\n",
       "      <th>339</th>\n",
       "      <td>Springer Nature</td>\n",
       "      <td>2276408</td>\n",
       "      <td>1304883</td>\n",
       "    </tr>\n",
       "    <tr>\n",
       "      <th>263</th>\n",
       "      <td>Institute of Electrical and Electronics Engine...</td>\n",
       "      <td>2138138</td>\n",
       "      <td>2771965</td>\n",
       "    </tr>\n",
       "  </tbody>\n",
       "</table>\n",
       "</div>"
      ],
      "text/plain": [
       "                                                          Name  Downloads  \\\n",
       "Crossref_ID                                                                 \n",
       "78                                                 Elsevier BV    9527038   \n",
       "297                                            Springer Nature    5489012   \n",
       "311                                            Wiley-Blackwell    3173076   \n",
       "339                                            Springer Nature    2276408   \n",
       "263          Institute of Electrical and Electronics Engine...    2138138   \n",
       "\n",
       "             total_DOIs  \n",
       "Crossref_ID              \n",
       "78             14589774  \n",
       "297             9110555  \n",
       "311             7979382  \n",
       "339             1304883  \n",
       "263             2771965  "
      ]
     },
     "execution_count": 292,
     "metadata": {},
     "output_type": "execute_result"
    }
   ],
   "source": [
    "downloads_and_dois_by_publisher = cleaned_downloads_by_member_summed\n",
    "downloads_and_dois_by_publisher.loc[:, 'total_DOIs'] = pd.Series(publisher_doi_counts, index=downloads_and_dois_by_publisher.index)\n",
    "downloads_and_dois_by_publisher.head()"
   ]
  },
  {
   "cell_type": "markdown",
   "metadata": {},
   "source": [
    "Yup, looks like a correlation between sci-hub download requests and total number of DOis a publisher has.  Let's sort by the number of papers a publisher has."
   ]
  },
  {
   "cell_type": "code",
   "execution_count": 293,
   "metadata": {
    "collapsed": false
   },
   "outputs": [
    {
     "data": {
      "text/html": [
       "<div>\n",
       "<table border=\"1\" class=\"dataframe\">\n",
       "  <thead>\n",
       "    <tr style=\"text-align: right;\">\n",
       "      <th></th>\n",
       "      <th>Name</th>\n",
       "      <th>Downloads</th>\n",
       "      <th>total_DOIs</th>\n",
       "    </tr>\n",
       "    <tr>\n",
       "      <th>Crossref_ID</th>\n",
       "      <th></th>\n",
       "      <th></th>\n",
       "      <th></th>\n",
       "    </tr>\n",
       "  </thead>\n",
       "  <tbody>\n",
       "    <tr>\n",
       "      <th>78</th>\n",
       "      <td>Elsevier BV</td>\n",
       "      <td>9527038</td>\n",
       "      <td>14589774</td>\n",
       "    </tr>\n",
       "    <tr>\n",
       "      <th>297</th>\n",
       "      <td>Springer Nature</td>\n",
       "      <td>5489012</td>\n",
       "      <td>9110555</td>\n",
       "    </tr>\n",
       "    <tr>\n",
       "      <th>311</th>\n",
       "      <td>Wiley-Blackwell</td>\n",
       "      <td>3173076</td>\n",
       "      <td>7979382</td>\n",
       "    </tr>\n",
       "    <tr>\n",
       "      <th>301</th>\n",
       "      <td>Informa UK Limited</td>\n",
       "      <td>970160</td>\n",
       "      <td>3702633</td>\n",
       "    </tr>\n",
       "    <tr>\n",
       "      <th>263</th>\n",
       "      <td>Institute of Electrical and Electronics Engine...</td>\n",
       "      <td>2138138</td>\n",
       "      <td>2771965</td>\n",
       "    </tr>\n",
       "  </tbody>\n",
       "</table>\n",
       "</div>"
      ],
      "text/plain": [
       "                                                          Name  Downloads  \\\n",
       "Crossref_ID                                                                 \n",
       "78                                                 Elsevier BV    9527038   \n",
       "297                                            Springer Nature    5489012   \n",
       "311                                            Wiley-Blackwell    3173076   \n",
       "301                                         Informa UK Limited     970160   \n",
       "263          Institute of Electrical and Electronics Engine...    2138138   \n",
       "\n",
       "             total_DOIs  \n",
       "Crossref_ID              \n",
       "78             14589774  \n",
       "297             9110555  \n",
       "311             7979382  \n",
       "301             3702633  \n",
       "263             2771965  "
      ]
     },
     "execution_count": 293,
     "metadata": {},
     "output_type": "execute_result"
    }
   ],
   "source": [
    "downloads_and_dois_by_publisher = downloads_and_dois_by_publisher.sort_values(\"total_DOIs\", ascending = False)\n",
    "downloads_and_dois_by_publisher.head()"
   ]
  },
  {
   "cell_type": "markdown",
   "metadata": {},
   "source": [
    "And now let's make a plot and fit a line to it. I'll do a log-log plot, since the publishers vary widely in size, and I'll only look at the 400 biggest publishers out of the roughly one thousand in the list."
   ]
  },
  {
   "cell_type": "code",
   "execution_count": 252,
   "metadata": {
    "collapsed": false
   },
   "outputs": [
    {
     "data": {
      "text/plain": [
       "[<matplotlib.lines.Line2D at 0x1165cd048>]"
      ]
     },
     "execution_count": 252,
     "metadata": {},
     "output_type": "execute_result"
    },
    {
     "data": {
      "image/png": "[encoded data removed]",
      "text/plain": [
       "<matplotlib.figure.Figure at 0x11561b898>"
      ]
     },
     "metadata": {},
     "output_type": "display_data"
    }
   ],
   "source": [
    "from numpy import polyval, polyfit, e\n",
    "%matplotlib inline\n",
    "plt.rcParams['figure.figsize'] = 10, 10\n",
    "plt.scatter(downloads_and_dois_by_publisher[\"total_DOIs\"][:400], downloads_and_dois_by_publisher[\"Downloads\"][:400])\n",
    "ax = plt.gca()\n",
    "ax.set_xlabel(\"Number of papers per publisher\", size = 15)\n",
    "ax.set_ylabel(\"Number of Sci-Hub download requests per publisher\", size = 15)\n",
    "ax.set_xscale(\"log\")\n",
    "ax.set_yscale(\"log\")\n",
    "ax.set_xlim([3e3,1e8])\n",
    "ax.set_ylim([1,1e8])\n",
    "\n",
    "fit_coeffs = polyfit(np.log(downloads_and_dois_by_publisher[\"total_DOIs\"][:400]), np.log(downloads_and_dois_by_publisher[\"Downloads\"][:400]), 1)\n",
    "def fit(x): return polyval(fit_coeffs, x)\n",
    "fitx = np.linspace(4, 20, 200)\n",
    "fity = fit(fitx)\n",
    "plt.plot(e**fitx, e**fity)"
   ]
  },
  {
   "cell_type": "markdown",
   "metadata": {},
   "source": [
    "Looks good! Saving the dataframe to a CSV so I can pick it up later without having to re-query Crossref."
   ]
  },
  {
   "cell_type": "code",
   "execution_count": 253,
   "metadata": {
    "collapsed": false
   },
   "outputs": [],
   "source": [
    "downloads_and_dois_by_publisher.to_csv(\"downloads_and_dois_by_publishers.csv\")"
   ]
  },
  {
   "cell_type": "markdown",
   "metadata": {},
   "source": [
    "### Looking for patterns\n",
    "Future work: figure out which publishers are open-access, and which ones are just unpopular. For that, we'll need a third dimension, which could be citation counts, or non-Sci-Hub readership."
   ]
  },
  {
   "cell_type": "code",
   "execution_count": null,
   "metadata": {
    "collapsed": true
   },
   "outputs": [],
   "source": []
  }
 ],
 "metadata": {
  "kernelspec": {
   "display_name": "Python 3",
   "language": "python",
   "name": "python3"
  },
  "language_info": {
   "codemirror_mode": {
    "name": "ipython",
    "version": 3
   },
   "file_extension": ".py",
   "mimetype": "text/x-python",
   "name": "python",
   "nbconvert_exporter": "python",
   "pygments_lexer": "ipython3",
   "version": "3.5.1"
  }
 },
 "nbformat": 4,
 "nbformat_minor": 0
}
